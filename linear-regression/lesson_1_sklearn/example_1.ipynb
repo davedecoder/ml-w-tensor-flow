{
 "cells": [
  {
   "cell_type": "markdown",
   "id": "1d67dae5",
   "metadata": {},
   "source": [
    " Linear Regression Quiz\n",
    "In this quiz, you'll be working with data on the average life expectancy at birth and the average BMI for males across the world. The data comes from Gapminder.\n",
    "\n",
    "The data file can be found under the \"bmi_and_life_expectancy.csv\" tab in the quiz below. It includes three columns, containing the following data:\n",
    "\n",
    "Country – The country the person was born in.\n",
    "Life expectancy – The average life expectancy at birth for a person in that country.\n",
    "BMI – The mean BMI of males in that country.\n",
    "You'll need to complete each of the following steps:\n",
    "### 1. Load the data\n",
    "\n",
    "The data is in the file called \"bmi_and_life_expectancy.csv\".\n",
    "Use pandas read_csv to load the data into a dataframe (don't forget to import pandas!)\n",
    "Assign the dataframe to the variable bmi_life_data.\n",
    "\n",
    "### 2. Build a linear regression model\n",
    "\n",
    "Create a regression model using scikit-learn's LinearRegression and assign it to bmi_life_model.\n",
    "Fit the model to the data.\n",
    "\n",
    "### 3. Predict using the model\n",
    "\n",
    "Predict using a BMI of 21.07931 and assign it to the variable laos_life_exp."
   ]
  },
  {
   "cell_type": "code",
   "execution_count": 1,
   "id": "f240c7d8",
   "metadata": {
    "scrolled": true
   },
   "outputs": [],
   "source": [
    "import pandas as pd\n",
    "from sklearn.linear_model import LinearRegression"
   ]
  },
  {
   "cell_type": "code",
   "execution_count": 2,
   "id": "44a97e16",
   "metadata": {},
   "outputs": [],
   "source": [
    "# TODO: Add import statements\n",
    "\n",
    "import pandas as pd\n",
    "from sklearn.linear_model import LinearRegression\n",
    "\n",
    "\n",
    "# Assign the dataframe to this variable.\n",
    "# TODO: Load the data\n",
    "bmi_life_data = pd.read_csv(\"bmi_and_life_expectancy.csv\")"
   ]
  },
  {
   "cell_type": "code",
   "execution_count": 3,
   "id": "b99cbeaa",
   "metadata": {},
   "outputs": [
    {
     "data": {
      "text/plain": [
       "LinearRegression()"
      ]
     },
     "execution_count": 3,
     "metadata": {},
     "output_type": "execute_result"
    }
   ],
   "source": [
    "\n",
    "# Make and fit the linear regression model\n",
    "#TODO: Fit the model and Assign it to bmi_life_model\n",
    "bmi_life_model = LinearRegression()\n",
    "bmi_life_model.fit(bmi_life_data[[\"BMI\"]], bmi_life_data[[\"Life expectancy\"]])\n",
    "\n"
   ]
  },
  {
   "cell_type": "code",
   "execution_count": 5,
   "id": "3d84e728",
   "metadata": {},
   "outputs": [
    {
     "name": "stdout",
     "output_type": "stream",
     "text": [
      "[[60.31564716]]\n"
     ]
    },
    {
     "name": "stderr",
     "output_type": "stream",
     "text": [
      "/opt/miniconda3/envs/ml-w-tensor-flow/lib/python3.9/site-packages/sklearn/base.py:450: UserWarning: X does not have valid feature names, but LinearRegression was fitted with feature names\n",
      "  warnings.warn(\n"
     ]
    }
   ],
   "source": [
    "# Make a prediction using the model\n",
    "# TODO: Predict life expectancy for a BMI value of 21.07931\n",
    "laos_life_exp = bmi_life_model.predict([[21.07931]])\n",
    "\n",
    "print(laos_life_exp)"
   ]
  },
  {
   "cell_type": "code",
   "execution_count": null,
   "id": "5180835b",
   "metadata": {},
   "outputs": [],
   "source": []
  }
 ],
 "metadata": {
  "kernelspec": {
   "display_name": "Python 3 (ipykernel)",
   "language": "python",
   "name": "python3"
  },
  "language_info": {
   "codemirror_mode": {
    "name": "ipython",
    "version": 3
   },
   "file_extension": ".py",
   "mimetype": "text/x-python",
   "name": "python",
   "nbconvert_exporter": "python",
   "pygments_lexer": "ipython3",
   "version": "3.9.9"
  }
 },
 "nbformat": 4,
 "nbformat_minor": 5
}
